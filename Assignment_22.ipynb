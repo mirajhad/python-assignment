{
 "cells": [
  {
   "cell_type": "markdown",
   "id": "a8b46c0c",
   "metadata": {},
   "source": [
    "1. What is the result of the code, and explain?\n",
    "\n",
    "&gt;&gt;&gt; X = &#39;iNeuron&#39;\n",
    "&gt;&gt;&gt; def func():\n",
    "print(X)\n",
    "\n",
    "&gt;&gt;&gt; func()"
   ]
  },
  {
   "cell_type": "code",
   "execution_count": 4,
   "id": "38656b01",
   "metadata": {},
   "outputs": [
    {
     "name": "stdout",
     "output_type": "stream",
     "text": [
      "INueron\n"
     ]
    }
   ],
   "source": [
    "x='INueron'\n",
    "def func:\n",
    "    print(x)\n",
    "func()"
   ]
  },
  {
   "cell_type": "markdown",
   "id": "2e23ffc4",
   "metadata": {},
   "source": [
    "Here it takes simply x value from the outer variable and printing inside the function"
   ]
  },
  {
   "cell_type": "markdown",
   "id": "964b4296",
   "metadata": {},
   "source": [
    "2. What is the result of the code, and explain?\n",
    "\n",
    "&gt;&gt;&gt; X = &#39;iNeuron&#39;\n",
    "&gt;&gt;&gt; def func():\n",
    "X = &#39;NI!&#39;\n",
    "\n",
    "&gt;&gt;&gt; func()\n",
    "&gt;&gt;&gt; print(X)"
   ]
  },
  {
   "cell_type": "code",
   "execution_count": 6,
   "id": "8f5e7ad0",
   "metadata": {},
   "outputs": [
    {
     "name": "stdout",
     "output_type": "stream",
     "text": [
      "iNeuron\n"
     ]
    }
   ],
   "source": [
    "X = 'iNeuron' \n",
    "def func(): \n",
    "    X = 'NI!'\n",
    "\n",
    "func()\n",
    "print(X)"
   ]
  },
  {
   "cell_type": "markdown",
   "id": "668a91ab",
   "metadata": {},
   "source": [
    "When the function is called, the local variable X is created and used within the function, but it is not accessible outside of the function. When the function returns, the local variable X is destroyed and no longer exists.\n",
    "\n",
    "Therefore, when the print(X) statement is executed after calling func(), it will print the value of the global variable X, which is 'iNeuron'."
   ]
  },
  {
   "cell_type": "markdown",
   "id": "06385a39",
   "metadata": {},
   "source": [
    "3. What does this code print, and why?\n",
    "\n",
    "&gt;&gt;&gt; X = &#39;iNeuron&#39;\n",
    "&gt;&gt;&gt; def func():\n",
    "X = &#39;NI&#39;\n",
    "print(X)\n",
    "\n",
    "&gt;&gt;&gt; func()\n",
    "&gt;&gt;&gt; print(X)"
   ]
  },
  {
   "cell_type": "code",
   "execution_count": 7,
   "id": "2a0a0ed9",
   "metadata": {},
   "outputs": [
    {
     "name": "stdout",
     "output_type": "stream",
     "text": [
      "NI\n",
      "iNueron\n"
     ]
    }
   ],
   "source": [
    "X='iNueron'\n",
    "def func():\n",
    "    X='NI'\n",
    "    print(X)\n",
    "func()\n",
    "print(X)"
   ]
  },
  {
   "cell_type": "markdown",
   "id": "ae95a85a",
   "metadata": {},
   "source": [
    "When you call the function func(), the local variable X is created and its value is set to 'NI'. This local variable shadows the global variable with the same name. So, when you print X inside the function, it prints the value of the local variable, which is 'NI'.\n",
    "\n",
    "After the function call, the local variable X goes out of scope and is destroyed. When you print X outside the function, it prints the value of the global variable, which is 'iNueron'."
   ]
  },
  {
   "cell_type": "markdown",
   "id": "fbafbaee",
   "metadata": {},
   "source": [
    "4. What output does this code produce? Why?\n",
    "\n",
    "&gt;&gt;&gt; X = &#39;iNeuron&#39;\n",
    "&gt;&gt;&gt; def func():\n",
    "global X\n",
    "X = &#39;NI&#39;\n",
    "\n",
    "&gt;&gt;&gt; func()\n",
    "&gt;&gt;&gt; print(X)"
   ]
  },
  {
   "cell_type": "code",
   "execution_count": 11,
   "id": "d11019e7",
   "metadata": {},
   "outputs": [
    {
     "name": "stdout",
     "output_type": "stream",
     "text": [
      "NI\n"
     ]
    }
   ],
   "source": [
    "X='iNueron'\n",
    "def func():\n",
    "    global X \n",
    "    X ='NI'\n",
    "func()\n",
    "print(X)"
   ]
  },
  {
   "cell_type": "markdown",
   "id": "49da4431",
   "metadata": {},
   "source": [
    "To modify the value of a global variable inside a function, you need to use the global keyword. This tells the interpreter that you want to use the global variable, not create a new local variable with the same name.\n",
    "\n",
    "When you call the function func(), the global variable X is modified and its value is set to 'NI'.\n",
    "\n",
    "After the function call, when you print X, it prints the modified value of the global variable, which is 'NI'."
   ]
  },
  {
   "cell_type": "markdown",
   "id": "e6074aa1",
   "metadata": {},
   "source": [
    "5. What about this code—what’s the output, and why?\n",
    "\n",
    "&gt;&gt;&gt; X = &#39;iNeuron&#39;\n",
    "&gt;&gt;&gt; def func():\n",
    "X = &#39;NI&#39;\n",
    "def nested():\n",
    "print(X)\n",
    "nested()\n",
    "\n",
    "&gt;&gt;&gt; func()\n",
    "&gt;&gt;&gt; X"
   ]
  },
  {
   "cell_type": "code",
   "execution_count": 13,
   "id": "b4102735",
   "metadata": {},
   "outputs": [
    {
     "name": "stdout",
     "output_type": "stream",
     "text": [
      "NI\n"
     ]
    },
    {
     "data": {
      "text/plain": [
       "'iNueron'"
      ]
     },
     "execution_count": 13,
     "metadata": {},
     "output_type": "execute_result"
    }
   ],
   "source": [
    "X='iNueron'\n",
    "def func():\n",
    "    X='NI'\n",
    "    def nested():\n",
    "        print(X)\n",
    "    nested()\n",
    "func()\n",
    "X\n"
   ]
  },
  {
   "cell_type": "markdown",
   "id": "569365ee",
   "metadata": {},
   "source": [
    "The first line of output will be produced by the print(X) statement in the nested function, which will print the value of the X variable that is defined within the func function. This value is 'NI'.\n",
    "\n",
    "The second line of output will be the value of the X variable at the global scope, which is 'iNueron'."
   ]
  },
  {
   "cell_type": "markdown",
   "id": "042e5dc7",
   "metadata": {},
   "source": [
    "6. How about this code: what is its output in Python 3, and explain?\n",
    "\n",
    "&gt;&gt;&gt; def func():\n",
    "X = &#39;NI&#39;\n",
    "def nested():\n",
    "nonlocal X\n",
    "X = &#39;Spam&#39;\n",
    "nested()\n",
    "print(X)\n",
    "\n",
    "&gt;&gt;&gt; func()"
   ]
  },
  {
   "cell_type": "code",
   "execution_count": 15,
   "id": "94a52068",
   "metadata": {},
   "outputs": [
    {
     "name": "stdout",
     "output_type": "stream",
     "text": [
      "Spam\n"
     ]
    }
   ],
   "source": [
    "def func():\n",
    "    X='NI'\n",
    "    def nested():\n",
    "        nonlocal X\n",
    "        X= 'Spam'\n",
    "    nested()\n",
    "    print(X)\n",
    "func()"
   ]
  },
  {
   "cell_type": "markdown",
   "id": "9b4ec866",
   "metadata": {},
   "source": [
    "The nonlocal keyword is used to indicate that the X variable being assigned to in the nested function is not a local variable, but rather a variable defined in an enclosing scope. In this case, X is defined in the func function, so the assignment to X in the nested function will modify the value of X in the func function.\n",
    "\n",
    "When the print(X) statement in the func function is executed, it will print the modified value of X, which is 'Spam'."
   ]
  },
  {
   "cell_type": "code",
   "execution_count": null,
   "id": "fe60d416",
   "metadata": {},
   "outputs": [],
   "source": []
  }
 ],
 "metadata": {
  "kernelspec": {
   "display_name": "Python 3 (ipykernel)",
   "language": "python",
   "name": "python3"
  },
  "language_info": {
   "codemirror_mode": {
    "name": "ipython",
    "version": 3
   },
   "file_extension": ".py",
   "mimetype": "text/x-python",
   "name": "python",
   "nbconvert_exporter": "python",
   "pygments_lexer": "ipython3",
   "version": "3.10.7"
  }
 },
 "nbformat": 4,
 "nbformat_minor": 5
}
