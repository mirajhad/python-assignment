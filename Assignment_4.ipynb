{
 "cells": [
  {
   "cell_type": "markdown",
   "id": "20d6eeaa",
   "metadata": {},
   "source": [
    "### 1. What exactly is []?"
   ]
  },
  {
   "cell_type": "markdown",
   "id": "90a6442e",
   "metadata": {},
   "source": [
    "Ans:its a empty list"
   ]
  },
  {
   "cell_type": "markdown",
   "id": "9a8ece4d",
   "metadata": {},
   "source": [
    "### 2.  In a list of values stored in a variable called spam, how would you assign the value &#39;hello&#39; as the third value? (Assume [2, 4, 6, 8, 10] are in spam.)"
   ]
  },
  {
   "cell_type": "code",
   "execution_count": 8,
   "id": "69f8d72e",
   "metadata": {},
   "outputs": [],
   "source": [
    "spam = [2,4,6,10]"
   ]
  },
  {
   "cell_type": "code",
   "execution_count": 11,
   "id": "e1998da2",
   "metadata": {},
   "outputs": [],
   "source": [
    "spam[2]=\"hello\""
   ]
  },
  {
   "cell_type": "code",
   "execution_count": 14,
   "id": "b217468c",
   "metadata": {},
   "outputs": [
    {
     "name": "stdout",
     "output_type": "stream",
     "text": [
      "[2, 4, 'hello', 10]\n"
     ]
    }
   ],
   "source": [
    "print (spam)"
   ]
  },
  {
   "cell_type": "markdown",
   "id": "df0a4362",
   "metadata": {},
   "source": [
    "### 3. What is the value of spam[int(int(&#39;3&#39; * 2) / 11)]?"
   ]
  },
  {
   "cell_type": "code",
   "execution_count": 24,
   "id": "e3353a21",
   "metadata": {},
   "outputs": [
    {
     "name": "stdout",
     "output_type": "stream",
     "text": [
      "10\n"
     ]
    }
   ],
   "source": [
    "print (spam[int(int('3'*2)/11)])"
   ]
  },
  {
   "cell_type": "markdown",
   "id": "409c1d7e",
   "metadata": {},
   "source": [
    "### 4. What is the value of spam[-1]?"
   ]
  },
  {
   "cell_type": "code",
   "execution_count": 28,
   "id": "57d2251a",
   "metadata": {},
   "outputs": [
    {
     "data": {
      "text/plain": [
       "10"
      ]
     },
     "execution_count": 28,
     "metadata": {},
     "output_type": "execute_result"
    }
   ],
   "source": [
    "10"
   ]
  },
  {
   "cell_type": "markdown",
   "id": "aa015be4",
   "metadata": {},
   "source": [
    "### 5. What is the value of spam[:2]?"
   ]
  },
  {
   "cell_type": "code",
   "execution_count": 30,
   "id": "31c4814b",
   "metadata": {},
   "outputs": [
    {
     "data": {
      "text/plain": [
       "[2, 4]"
      ]
     },
     "execution_count": 30,
     "metadata": {},
     "output_type": "execute_result"
    }
   ],
   "source": [
    "[2, 4]"
   ]
  },
  {
   "cell_type": "markdown",
   "id": "214085f5",
   "metadata": {},
   "source": [
    "### 6. What is the value of bacon.index('cat')?"
   ]
  },
  {
   "cell_type": "code",
   "execution_count": 33,
   "id": "160f6065",
   "metadata": {},
   "outputs": [],
   "source": [
    "beacon = [3.14, 'cat', 11,'cat',True]"
   ]
  },
  {
   "cell_type": "code",
   "execution_count": 35,
   "id": "f0c39147",
   "metadata": {},
   "outputs": [
    {
     "data": {
      "text/plain": [
       "1"
      ]
     },
     "execution_count": 35,
     "metadata": {},
     "output_type": "execute_result"
    }
   ],
   "source": [
    "1"
   ]
  },
  {
   "cell_type": "markdown",
   "id": "4c9e59f6",
   "metadata": {},
   "source": [
    "### 7. How does bacon.append(99) change the look of the list value in bacon?"
   ]
  },
  {
   "cell_type": "code",
   "execution_count": 38,
   "id": "00facc10",
   "metadata": {},
   "outputs": [
    {
     "name": "stdout",
     "output_type": "stream",
     "text": [
      "[3.14, 'cat', 11, 'cat', True, 99, 99]\n"
     ]
    }
   ],
   "source": [
    "[3.14, 'cat', 11, 'cat', True]"
   ]
  },
  {
   "cell_type": "markdown",
   "id": "d4fc495c",
   "metadata": {},
   "source": [
    "### 8. How does bacon.remove(&#39;cat&#39;) change the look of the list in bacon?"
   ]
  },
  {
   "cell_type": "markdown",
   "id": "6567f12f",
   "metadata": {},
   "source": [
    "it will remove cat in list"
   ]
  },
  {
   "cell_type": "markdown",
   "id": "73654d4c",
   "metadata": {},
   "source": [
    "### 9. What are the list concatenation and list replication operators?"
   ]
  },
  {
   "cell_type": "markdown",
   "id": "496e3f01",
   "metadata": {},
   "source": [
    "list concatenation operator is +, and list replication operator is *"
   ]
  },
  {
   "cell_type": "markdown",
   "id": "ef69f693",
   "metadata": {},
   "source": [
    "### 10. What is difference between the list methods append() and insert()?"
   ]
  },
  {
   "cell_type": "markdown",
   "id": "e8feef25",
   "metadata": {},
   "source": [
    "append will add at last postion of the list, and insert will add at any place in the list"
   ]
  },
  {
   "cell_type": "markdown",
   "id": "cac49359",
   "metadata": {},
   "source": [
    "### 11. What are the two methods for removing items from a list?"
   ]
  },
  {
   "cell_type": "markdown",
   "id": "2ac2067f",
   "metadata": {},
   "source": [
    "del and remove()"
   ]
  },
  {
   "cell_type": "markdown",
   "id": "d907894d",
   "metadata": {},
   "source": [
    "### 12. Describe how list values and string values are identical."
   ]
  },
  {
   "cell_type": "markdown",
   "id": "cfe6fa9b",
   "metadata": {},
   "source": [
    "Both lists and strings can be passed to len(), have indexes and slices, be used in for loops, be concatenated or replicated, and be used with the in and not in operators."
   ]
  },
  {
   "cell_type": "markdown",
   "id": "6e214042",
   "metadata": {},
   "source": [
    "### 13. What is the difference between tuples and lists?"
   ]
  },
  {
   "cell_type": "markdown",
   "id": "b67f2874",
   "metadata": {},
   "source": [
    "list are mutable and written by [] bracket and tuples are immutable and written in () bracket"
   ]
  },
  {
   "cell_type": "markdown",
   "id": "3627b8d3",
   "metadata": {},
   "source": [
    "### 14. How do you type a tuple value that only contains the integer 42?"
   ]
  },
  {
   "cell_type": "markdown",
   "id": "4abf59bc",
   "metadata": {},
   "source": [
    "By using trailing comma (12,)"
   ]
  },
  {
   "cell_type": "markdown",
   "id": "3b1875a9",
   "metadata": {},
   "source": [
    "### 15. How do you get a list value is tuple form? How do you get a tuple value&#39;s list form?"
   ]
  },
  {
   "cell_type": "markdown",
   "id": "7a2bcc73",
   "metadata": {},
   "source": [
    "using list() and tuple() function"
   ]
  },
  {
   "cell_type": "markdown",
   "id": "f6ec7548",
   "metadata": {},
   "source": [
    "### 16. Variables that are contain list values are not necessarily lists themselves. Instead, what do they contain?"
   ]
  },
  {
   "cell_type": "markdown",
   "id": "07d0d54b",
   "metadata": {},
   "source": [
    "they contain references to the list"
   ]
  },
  {
   "cell_type": "markdown",
   "id": "bc13b3c7",
   "metadata": {},
   "source": [
    "### 17. How do you distinguish between copy.copy() and copy.deepcopy()?"
   ]
  },
  {
   "cell_type": "markdown",
   "id": "cd270df8",
   "metadata": {},
   "source": [
    "The copy.copy() function will do a shallow copy of a list, while the copy.deepcopy() function will do a deep copy of a list. That is, only copy.deepcopy() will duplicate any lists inside the list."
   ]
  },
  {
   "cell_type": "code",
   "execution_count": null,
   "id": "03bfe8b0",
   "metadata": {},
   "outputs": [],
   "source": []
  }
 ],
 "metadata": {
  "kernelspec": {
   "display_name": "Python 3 (ipykernel)",
   "language": "python",
   "name": "python3"
  },
  "language_info": {
   "codemirror_mode": {
    "name": "ipython",
    "version": 3
   },
   "file_extension": ".py",
   "mimetype": "text/x-python",
   "name": "python",
   "nbconvert_exporter": "python",
   "pygments_lexer": "ipython3",
   "version": "3.9.13"
  }
 },
 "nbformat": 4,
 "nbformat_minor": 5
}
