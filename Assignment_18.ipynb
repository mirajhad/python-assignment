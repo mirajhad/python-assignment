{
 "cells": [
  {
   "cell_type": "markdown",
   "id": "f031c3cc",
   "metadata": {},
   "source": [
    "### 1. Create a zoo.py file first. Define the hours() function, which prints the string &#39;Open 9-5 daily&#39;. Then, use the interactive interpreter to import the zoo module and call its hours() function."
   ]
  },
  {
   "cell_type": "code",
   "execution_count": 5,
   "id": "2836b8ac",
   "metadata": {},
   "outputs": [],
   "source": [
    "def hours():\n",
    "    print(\"Open 9-5 daily\")\n"
   ]
  },
  {
   "cell_type": "markdown",
   "id": "77c9b01c",
   "metadata": {},
   "source": [
    " import zoo\n",
    "    zoo.hours()"
   ]
  },
  {
   "cell_type": "markdown",
   "id": "1d35de07",
   "metadata": {},
   "source": [
    "### 2. In the interactive interpreter, import the zoo module as menagerie and call its hours() function."
   ]
  },
  {
   "cell_type": "markdown",
   "id": "b6ad3073",
   "metadata": {},
   "source": [
    "import zoo as menagerie\n",
    "  menagerie.hours()\n"
   ]
  },
  {
   "cell_type": "markdown",
   "id": "0015b91e",
   "metadata": {},
   "source": [
    ">>> from zoo import hours\n",
    ">>> hours()\n"
   ]
  },
  {
   "cell_type": "markdown",
   "id": "c80585ec",
   "metadata": {},
   "source": [
    "### 3. Using the interpreter, explicitly import and call the hours() function from zoo."
   ]
  },
  {
   "cell_type": "markdown",
   "id": "a19a807b",
   "metadata": {},
   "source": [
    ">>> from zoo import hours\n",
    ">>> hours()\n",
    "\n",
    ">>> import zoo\n",
    ">>> zoo.hours()\n"
   ]
  },
  {
   "cell_type": "markdown",
   "id": "bfbe1dab",
   "metadata": {},
   "source": [
    "### 4. Import the hours() function as info and call it."
   ]
  },
  {
   "cell_type": "markdown",
   "id": "98fd6454",
   "metadata": {},
   "source": [
    ">>> from zoo import hours as info\n",
    ">>> info()\n"
   ]
  },
  {
   "cell_type": "markdown",
   "id": "6d3fa81a",
   "metadata": {},
   "source": [
    "### 5. Create a plain dictionary with the key-value pairs &#39;a&#39;: 1, &#39;b&#39;: 2, and &#39;c&#39;: 3, and print it out."
   ]
  },
  {
   "cell_type": "code",
   "execution_count": 10,
   "id": "55bca74a",
   "metadata": {},
   "outputs": [
    {
     "name": "stdout",
     "output_type": "stream",
     "text": [
      "{'a': 1, 'b': 2, 'c': 3}\n"
     ]
    }
   ],
   "source": [
    ">>> my_dict = {'a': 1, 'b': 2, 'c': 3}\n",
    ">>> print(my_dict)\n"
   ]
  },
  {
   "cell_type": "markdown",
   "id": "aa6c1622",
   "metadata": {},
   "source": [
    "### 6.Make an OrderedDict called fancy from the same pairs listed in 5 and print it. Did it print in the same order as plain?"
   ]
  },
  {
   "cell_type": "code",
   "execution_count": 11,
   "id": "9005d4fe",
   "metadata": {},
   "outputs": [
    {
     "name": "stdout",
     "output_type": "stream",
     "text": [
      "OrderedDict([('a', 1), ('b', 2), ('c', 3)])\n"
     ]
    }
   ],
   "source": [
    "from collections import OrderedDict\n",
    "\n",
    "fancy = OrderedDict([('a', 1), ('b', 2), ('c', 3)])\n",
    "print(fancy)\n"
   ]
  },
  {
   "cell_type": "markdown",
   "id": "942c8c6e",
   "metadata": {},
   "source": [
    "### 7. Make a default dictionary called dict_of_lists and pass it the argument list. Make the list dict_of_lists[&#39;a&#39;] and append the value &#39;something for a&#39; to it in one assignment. Print dict_of_lists[&#39;a&#39;]."
   ]
  },
  {
   "cell_type": "code",
   "execution_count": 12,
   "id": "642d6a50",
   "metadata": {},
   "outputs": [
    {
     "name": "stdout",
     "output_type": "stream",
     "text": [
      "['something for a']\n"
     ]
    }
   ],
   "source": [
    "from collections import defaultdict\n",
    "\n",
    "dict_of_lists = defaultdict(list)\n",
    "dict_of_lists['a'].append('something for a')\n",
    "print(dict_of_lists['a'])\n"
   ]
  },
  {
   "cell_type": "code",
   "execution_count": null,
   "id": "02ea316b",
   "metadata": {},
   "outputs": [],
   "source": []
  }
 ],
 "metadata": {
  "kernelspec": {
   "display_name": "Python 3 (ipykernel)",
   "language": "python",
   "name": "python3"
  },
  "language_info": {
   "codemirror_mode": {
    "name": "ipython",
    "version": 3
   },
   "file_extension": ".py",
   "mimetype": "text/x-python",
   "name": "python",
   "nbconvert_exporter": "python",
   "pygments_lexer": "ipython3",
   "version": "3.9.13"
  }
 },
 "nbformat": 4,
 "nbformat_minor": 5
}
