{
 "cells": [
  {
   "cell_type": "markdown",
   "id": "d73e113a",
   "metadata": {},
   "source": [
    "### 1.How many seconds are in an hour? Use the interactive interpreter as a calculator and multiply thenumber of seconds in a minute (60) by the number of minutes in an hour (also 60)."
   ]
  },
  {
   "cell_type": "markdown",
   "id": "05c5eb03",
   "metadata": {},
   "source": [
    "To find out how many seconds are in an hour, you can use the interactive interpreter as a calculator and multiply the number of seconds in a minute (60) by the number of minutes in an hour (also 60).\n",
    "\n",
    "In the Python interactive interpreter, you can use the * operator to perform multiplication"
   ]
  },
  {
   "cell_type": "markdown",
   "id": "10dc2aa7",
   "metadata": {},
   "source": [
    "### 2. Assign the result from the previous task (seconds in an hour) to a variable called seconds_per_hour."
   ]
  },
  {
   "cell_type": "markdown",
   "id": "abe57f7b",
   "metadata": {},
   "source": [
    "To assign the result of the calculation (seconds in an hour) to a variable called seconds_per_hour, you can use the assignment operator =.\n",
    "\n",
    "In Python, the assignment operator = is used to assign a value to a variable. The value to be assigned is specified on the right side of the operator, and the variable to which the value is assigned is specified on the left side of the operator."
   ]
  },
  {
   "cell_type": "markdown",
   "id": "8048761b",
   "metadata": {},
   "source": [
    "### 3. How many seconds do you think there are in a day? Make use of the variables seconds per hour and minutes per hour."
   ]
  },
  {
   "cell_type": "markdown",
   "id": "2444a832",
   "metadata": {},
   "source": [
    "To find out how many seconds there are in a day, you can use the variables seconds_per_hour and minutes_per_hour.\n",
    "\n",
    "seconds_per_hour represents the number of seconds in an hour, and minutes_per_hour represents the number of minutes in an hour. Since there are 60 minutes in an hour, and 60 seconds in a minute, there are minutes_per_hour * seconds_per_minute = 60 * 60 = 3600 seconds in an hour.\n",
    "\n",
    "To find out how many seconds there are in a day, you can multiply the number of seconds in an hour by the number of hours in a day."
   ]
  },
  {
   "cell_type": "markdown",
   "id": "52aa4012",
   "metadata": {},
   "source": [
    "### 4. Calculate seconds per day again, but this time save the result in a variable called seconds_per_day"
   ]
  },
  {
   "cell_type": "code",
   "execution_count": 1,
   "id": "f93199f3",
   "metadata": {},
   "outputs": [
    {
     "name": "stdout",
     "output_type": "stream",
     "text": [
      "86400\n"
     ]
    }
   ],
   "source": [
    "# Calculate the number of seconds in an hour\n",
    "seconds_per_hour = 60 * 60\n",
    "\n",
    "# Calculate the number of seconds in a day\n",
    "seconds_per_day = seconds_per_hour * 24\n",
    "\n",
    "# Print the result\n",
    "print(seconds_per_day)  # Output: 86400"
   ]
  },
  {
   "cell_type": "markdown",
   "id": "50173db7",
   "metadata": {},
   "source": [
    "### 5. Divide seconds_per_day by seconds_per_hour. Use floating-point (/) division."
   ]
  },
  {
   "cell_type": "code",
   "execution_count": 2,
   "id": "e2d91d46",
   "metadata": {},
   "outputs": [
    {
     "name": "stdout",
     "output_type": "stream",
     "text": [
      "24.0\n"
     ]
    }
   ],
   "source": [
    "hours_per_day = seconds_per_day / seconds_per_hour\n",
    "\n",
    "# Print the result\n",
    "print(hours_per_day)  # Output: 24.0"
   ]
  },
  {
   "cell_type": "markdown",
   "id": "640e31c7",
   "metadata": {},
   "source": [
    "### 6. Divide seconds_per_day by seconds_per_hour, using integer (//) division. Did this number agree with the floating-point value from the previous question, aside from the final .0?"
   ]
  },
  {
   "cell_type": "code",
   "execution_count": 3,
   "id": "fd484f7e",
   "metadata": {},
   "outputs": [
    {
     "name": "stdout",
     "output_type": "stream",
     "text": [
      "24\n"
     ]
    }
   ],
   "source": [
    "hours_per_day = seconds_per_day // seconds_per_hour\n",
    "\n",
    "# Print the result\n",
    "print(hours_per_day) "
   ]
  },
  {
   "cell_type": "markdown",
   "id": "6b48e8a7",
   "metadata": {},
   "source": [
    "### 7. Write a generator, genPrimes, that returns the sequence of prime numbers on successive calls to its next() method: 2, 3, 5, 7, 11, ..."
   ]
  },
  {
   "cell_type": "code",
   "execution_count": 4,
   "id": "ccac49ac",
   "metadata": {},
   "outputs": [],
   "source": [
    "def genPrimes():\n",
    "    # Initialize the list of prime numbers\n",
    "    primes = []\n",
    "    \n",
    "    # Start with the number 2\n",
    "    n = 2\n",
    "    \n",
    "    while True:\n",
    "        # Check if n is prime\n",
    "        is_prime = True\n",
    "        for p in primes:\n",
    "            if n % p == 0:\n",
    "                is_prime = False\n",
    "                break\n",
    "        if is_prime:\n",
    "            # Add n to the list of prime numbers\n",
    "            primes.append(n)\n",
    "            # Yield the prime number\n",
    "            yield n\n",
    "        # Increment n\n",
    "        n += 1\n"
   ]
  },
  {
   "cell_type": "code",
   "execution_count": null,
   "id": "81aeb166",
   "metadata": {},
   "outputs": [],
   "source": []
  }
 ],
 "metadata": {
  "kernelspec": {
   "display_name": "Python 3 (ipykernel)",
   "language": "python",
   "name": "python3"
  },
  "language_info": {
   "codemirror_mode": {
    "name": "ipython",
    "version": 3
   },
   "file_extension": ".py",
   "mimetype": "text/x-python",
   "name": "python",
   "nbconvert_exporter": "python",
   "pygments_lexer": "ipython3",
   "version": "3.9.13"
  }
 },
 "nbformat": 4,
 "nbformat_minor": 5
}
