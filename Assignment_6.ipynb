{
 "cells": [
  {
   "cell_type": "markdown",
   "id": "3ca207b7",
   "metadata": {},
   "source": [
    "### 1. What are escape characters, and how do you use them?"
   ]
  },
  {
   "cell_type": "markdown",
   "id": "f26b6a4f",
   "metadata": {},
   "source": [
    " \\n - newline\t\\t - tab spacing\t\\r - carriage return\t\n",
    "  \\\\ creates a backslash since one backslash is used to escape"
   ]
  },
  {
   "cell_type": "markdown",
   "id": "82434709",
   "metadata": {},
   "source": [
    "### 2. What do the escape characters n and t stand for?"
   ]
  },
  {
   "cell_type": "markdown",
   "id": "35e8a786",
   "metadata": {},
   "source": [
    "\\n - newline \\t - tab spacing "
   ]
  },
  {
   "cell_type": "markdown",
   "id": "bfdfe812",
   "metadata": {},
   "source": [
    "### 3. What is the way to include backslash characters in a string?"
   ]
  },
  {
   "cell_type": "markdown",
   "id": "2e0c73a5",
   "metadata": {},
   "source": [
    "if we want to include 2 backslash we can add 2 backslash or we can use verbatim string\n",
    "var s = \"\\\\Tasks\";\n",
    "// or \n",
    "var s = @\"\\Tasks\";"
   ]
  },
  {
   "cell_type": "markdown",
   "id": "1478fded",
   "metadata": {},
   "source": [
    "### 4. The string 'Howl's' Moving Castle&quot; is a correct value. Why isn&#39;t the single quote character in the word Howl's not escaped a problem?"
   ]
  },
  {
   "cell_type": "markdown",
   "id": "a8cec7fd",
   "metadata": {},
   "source": [
    "The single quote in Howl's is fine because we’ve used double quotes to mark the beginning and end of the string."
   ]
  },
  {
   "cell_type": "markdown",
   "id": "36c4d9f7",
   "metadata": {},
   "source": [
    "### 5. How do you write a string of newlines if you don't want to use the n character?"
   ]
  },
  {
   "cell_type": "markdown",
   "id": "6a317864",
   "metadata": {},
   "source": [
    "Multiline strings allow you to use newlines in strings without the \\n escape character"
   ]
  },
  {
   "cell_type": "markdown",
   "id": "fcfdd571",
   "metadata": {},
   "source": [
    "### 6. What are the values of the given expressions? 'Hello, world!'[1] 'Hello, world!'[0:5] 'Hello, world!'[:5] 'Hello, world!'[3:]"
   ]
  },
  {
   "cell_type": "markdown",
   "id": "2a273137",
   "metadata": {},
   "source": [
    "print('Hello, world!'[1] )\n",
    "print('Hello, world!'[0:5])\n",
    "print('Hello, world!'[:5])\n",
    "print('Hello, world!'[3:])\n",
    "e\n",
    "Hello\n",
    "Hello\n",
    "lo, world!"
   ]
  },
  {
   "cell_type": "markdown",
   "id": "03f62607",
   "metadata": {},
   "source": [
    "### 7. What are the values of the following expressions? 'Hello'.upper() 'Hello'.upper().isupper() 'Hello'.upper().lower()"
   ]
  },
  {
   "cell_type": "markdown",
   "id": "5b0205f1",
   "metadata": {},
   "source": [
    "HELLO\n",
    "True\n",
    "hello"
   ]
  },
  {
   "cell_type": "markdown",
   "id": "adec21bd",
   "metadata": {},
   "source": [
    "### 8. What are the values of the following expressions? 'Remember, remember, the fifth of July.'.split() '-'.join('There can only one.'.split())"
   ]
  },
  {
   "cell_type": "markdown",
   "id": "7f5b249e",
   "metadata": {},
   "source": [
    "1. ['Remember,', 'remember,', 'the', 'fifth', 'of', 'July.']\n",
    "2. 'There-can-only-one.'"
   ]
  },
  {
   "cell_type": "markdown",
   "id": "cd576ac4",
   "metadata": {},
   "source": [
    "### 9. What are the methods for right-justifying, left-justifying, and centering a string?"
   ]
  },
  {
   "cell_type": "markdown",
   "id": "344ab3d7",
   "metadata": {},
   "source": [
    "1. rjust()\n",
    "2. ljust()\n",
    "3. center()"
   ]
  },
  {
   "cell_type": "markdown",
   "id": "d3719288",
   "metadata": {},
   "source": [
    "### 10. What is the best way to remove whitespace characters from the start or end?"
   ]
  },
  {
   "cell_type": "markdown",
   "id": "6b00b289",
   "metadata": {},
   "source": [
    "The lstrip() and rstrip() methods remove whitespace from the left and right ends of a string, respectively"
   ]
  }
 ],
 "metadata": {
  "kernelspec": {
   "display_name": "Python 3 (ipykernel)",
   "language": "python",
   "name": "python3"
  },
  "language_info": {
   "codemirror_mode": {
    "name": "ipython",
    "version": 3
   },
   "file_extension": ".py",
   "mimetype": "text/x-python",
   "name": "python",
   "nbconvert_exporter": "python",
   "pygments_lexer": "ipython3",
   "version": "3.9.13"
  }
 },
 "nbformat": 4,
 "nbformat_minor": 5
}
