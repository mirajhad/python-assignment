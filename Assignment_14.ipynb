{
 "cells": [
  {
   "cell_type": "markdown",
   "id": "850cfc2b",
   "metadata": {},
   "source": [
    "### 1. What does RGBA stand for?"
   ]
  },
  {
   "cell_type": "markdown",
   "id": "082279d9",
   "metadata": {},
   "source": [
    "RGBA(Red-Green-Blue-Alpha)"
   ]
  },
  {
   "cell_type": "markdown",
   "id": "1c2c9464",
   "metadata": {},
   "source": [
    "### 2. From the Pillow module, how do you get the RGBA value of any images?"
   ]
  },
  {
   "cell_type": "markdown",
   "id": "baed6fac",
   "metadata": {},
   "source": [
    "To get the RGBA value of an image using the Python Pillow module, you can use the getpixel() method of the Image object.\n",
    "\n",
    "The getpixel() method takes a tuple of coordinates (x, y) and returns the RGBA value of the pixel at those coordinates. The RGBA value is a "
   ]
  },
  {
   "cell_type": "markdown",
   "id": "5b07a436",
   "metadata": {},
   "source": [
    "### 3. What is a box tuple, and how does it work?"
   ]
  },
  {
   "cell_type": "markdown",
   "id": "b9c73895",
   "metadata": {},
   "source": [
    "In the Python Pillow module, a \"box tuple\" is a tuple of four integers that represents the coordinates of the bounding box of an object in an image. The four integers represent the left, upper, right, and lower coordinates of the bounding box, respectively.\n",
    "\n",
    "For example, a box tuple (10, 20, 30, 40) represents a bounding box with the following coordinates:\n",
    "\n",
    "left: 10\n",
    "upper: 20\n",
    "right: 30\n",
    "lower: 40"
   ]
  },
  {
   "cell_type": "markdown",
   "id": "f56cd33b",
   "metadata": {},
   "source": [
    "This bounding box would encompass the pixels in the image with coordinates (x, y) such that x is between 10 and 30 (inclusive) and y is between 20 and 40 (inclusive).\n",
    "\n",
    "Here's an example of how you can use a box tuple to crop an image using the crop() method of the Image object:"
   ]
  },
  {
   "cell_type": "code",
   "execution_count": null,
   "id": "a640bd96",
   "metadata": {},
   "outputs": [],
   "source": [
    "from PIL import Image\n",
    "\n",
    "# Open the image\n",
    "image = Image.open('image.png')\n",
    "\n",
    "# Define the bounding box\n",
    "box = (10, 20, 30, 40)\n",
    "\n",
    "# Crop the image using the bounding box\n",
    "cropped_image = image.crop(box)\n",
    "\n",
    "# Save the cropped image\n",
    "cropped_image.save('cropped_image.png')"
   ]
  },
  {
   "cell_type": "markdown",
   "id": "590c0231",
   "metadata": {},
   "source": [
    "This will crop the image to the bounding box defined by the box tuple, and save the result as a new image called cropped_image.png.\n",
    "\n",
    "You can also use a box tuple to draw a rectangle on an image using the draw.rectangle() method of the ImageDraw object."
   ]
  },
  {
   "cell_type": "markdown",
   "id": "db378af0",
   "metadata": {},
   "source": [
    "### 4. Use your image and load in notebook then, How can you find out the width and height of an Image object?"
   ]
  },
  {
   "cell_type": "markdown",
   "id": "7cbc7ef5",
   "metadata": {},
   "source": [
    "To find out the width and height of an Image object in the Python Pillow module, you can use the size attribute of the Image object."
   ]
  },
  {
   "cell_type": "markdown",
   "id": "015b395f",
   "metadata": {},
   "source": [
    "### 5. What method would you call to get Image object for a 100×100 image, excluding the lower-left quarter of it?"
   ]
  },
  {
   "cell_type": "markdown",
   "id": "1d69bf11",
   "metadata": {},
   "source": [
    "To get an Image object for a 100x100 image, excluding the lower-left quarter of it, you can use the crop() method of the Image object.\n",
    "\n",
    "The crop() method takes a \"box tuple\" as an argument, which is a tuple of four integers that represents the coordinates of the bounding box of the region to be cropped. The four integers represent the left, upper, right, and lower coordinates of the bounding box, respectively."
   ]
  },
  {
   "cell_type": "markdown",
   "id": "b6856b9d",
   "metadata": {},
   "source": [
    "### 6. After making changes to an Image object, how could you save it as an image file?"
   ]
  },
  {
   "cell_type": "markdown",
   "id": "f6c9554b",
   "metadata": {},
   "source": [
    "To save an Image object as an image file after making changes to it, you can use the save() method of the Image object."
   ]
  },
  {
   "cell_type": "markdown",
   "id": "49d42059",
   "metadata": {},
   "source": [
    "### 7. What module contains Pillow’s shape-drawing code?"
   ]
  },
  {
   "cell_type": "markdown",
   "id": "57e61fb3",
   "metadata": {},
   "source": [
    "The Python Pillow module's shape-drawing code is contained in the ImageDraw module.\n",
    "\n",
    "The ImageDraw module provides a number of functions for drawing shapes (such as lines, rectangles, ellipses, and polygons) on an Image object."
   ]
  },
  {
   "cell_type": "markdown",
   "id": "56430bae",
   "metadata": {},
   "source": [
    "### 8. Image objects do not have drawing methods. What kind of object does? How do you get this kindof object?"
   ]
  },
  {
   "cell_type": "markdown",
   "id": "ee847c64",
   "metadata": {},
   "source": [
    "Image objects in the Python Pillow module do not have drawing methods. Instead, you can use an ImageDraw object to draw shapes on an Image object.\n",
    "\n",
    "The ImageDraw module provides a number of functions for drawing shapes (such as lines, rectangles, ellipses, and polygons) on an Image object. To get an ImageDraw object, you need to create one using the ImageDraw.Draw() function, and pass an Image object as an argument."
   ]
  },
  {
   "cell_type": "code",
   "execution_count": null,
   "id": "ca0e932d",
   "metadata": {},
   "outputs": [],
   "source": []
  }
 ],
 "metadata": {
  "kernelspec": {
   "display_name": "Python 3 (ipykernel)",
   "language": "python",
   "name": "python3"
  },
  "language_info": {
   "codemirror_mode": {
    "name": "ipython",
    "version": 3
   },
   "file_extension": ".py",
   "mimetype": "text/x-python",
   "name": "python",
   "nbconvert_exporter": "python",
   "pygments_lexer": "ipython3",
   "version": "3.9.13"
  }
 },
 "nbformat": 4,
 "nbformat_minor": 5
}
