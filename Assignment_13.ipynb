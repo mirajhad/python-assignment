{
 "cells": [
  {
   "cell_type": "markdown",
   "id": "c92218ca",
   "metadata": {},
   "source": [
    "### 1. What advantages do Excel spreadsheets have over CSV spreadsheets?"
   ]
  },
  {
   "cell_type": "markdown",
   "id": "005f4cfb",
   "metadata": {},
   "source": [
    "While Excel (XLS and XLSX) file formats are better for storing more complex data, CSV files are supported by nearly all data upload interfaces. If you are planning to move your data between platforms, export and import it from one interface to another, you might be better off with the CSV file format."
   ]
  },
  {
   "cell_type": "markdown",
   "id": "8cc02cd5",
   "metadata": {},
   "source": [
    "### 2. What do you pass to csv.reader() and csv.writer() to create reader and writer objects?"
   ]
  },
  {
   "cell_type": "markdown",
   "id": "ee81d9c5",
   "metadata": {},
   "source": [
    "First, call open() and pass it 'w' to open a file in write mode ❶. This will create the object you can then pass to csv. writer() ❷ to create a Writer object. On Windows, you'll also need to pass a blank string for the open() function's newline keyword argument."
   ]
  },
  {
   "cell_type": "markdown",
   "id": "72bc543e",
   "metadata": {},
   "source": [
    "### 3. What modes do File objects for reader and writer objects need to be opened in?"
   ]
  },
  {
   "cell_type": "markdown",
   "id": "46853d3d",
   "metadata": {},
   "source": [
    "File objects for reader objects need to be opened in reading mode ('r'), and file objects for writer objects need to be opened in write mode ('w')."
   ]
  },
  {
   "cell_type": "markdown",
   "id": "6da5e2b1",
   "metadata": {},
   "source": [
    "Opening a file for reading\n",
    "f = open('myfile.txt', 'r')\n",
    "\n",
    "Opening a file for writing\n",
    "f = open('myfile.txt', 'w')"
   ]
  },
  {
   "cell_type": "markdown",
   "id": "4a4cb238",
   "metadata": {},
   "source": [
    "### 4. What method takes a list argument and writes it to a CSV file?"
   ]
  },
  {
   "cell_type": "markdown",
   "id": "738a5011",
   "metadata": {},
   "source": [
    "To write a list of data to a CSV file, you can use the csv.writer() function from the Python csv module."
   ]
  },
  {
   "cell_type": "markdown",
   "id": "545c3c33",
   "metadata": {},
   "source": [
    "### 5. What do the keyword arguments delimiter and line terminator do?"
   ]
  },
  {
   "cell_type": "markdown",
   "id": "ab60f7ac",
   "metadata": {},
   "source": [
    "The delimiter keyword argument specifies the character that is used to separate fields (columns) in the CSV file. By default, the delimiter character is a comma (,)."
   ]
  },
  {
   "cell_type": "markdown",
   "id": "995cb2a3",
   "metadata": {},
   "source": [
    "### 6. What function takes a string of JSON data and returns a Python data structure?"
   ]
  },
  {
   "cell_type": "markdown",
   "id": "a9159f5f",
   "metadata": {},
   "source": [
    "json.loads()"
   ]
  },
  {
   "cell_type": "markdown",
   "id": "524336b1",
   "metadata": {},
   "source": [
    "### 7. What function takes a Python data structure and returns a string of JSON data?"
   ]
  },
  {
   "cell_type": "markdown",
   "id": "0bb0e1fe",
   "metadata": {},
   "source": [
    "The json.dumps() function from the Python json module takes a Python data structure (e.g., a dictionary or a list) and returns a string of JSON data that represents the data."
   ]
  },
  {
   "cell_type": "code",
   "execution_count": null,
   "id": "77ebadbb",
   "metadata": {},
   "outputs": [],
   "source": []
  }
 ],
 "metadata": {
  "kernelspec": {
   "display_name": "Python 3 (ipykernel)",
   "language": "python",
   "name": "python3"
  },
  "language_info": {
   "codemirror_mode": {
    "name": "ipython",
    "version": 3
   },
   "file_extension": ".py",
   "mimetype": "text/x-python",
   "name": "python",
   "nbconvert_exporter": "python",
   "pygments_lexer": "ipython3",
   "version": "3.9.13"
  }
 },
 "nbformat": 4,
 "nbformat_minor": 5
}
