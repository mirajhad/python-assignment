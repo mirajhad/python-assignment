{
 "cells": [
  {
   "cell_type": "markdown",
   "id": "f785665d",
   "metadata": {},
   "source": [
    "### 1. Add the current date to the text file today.txt as a string."
   ]
  },
  {
   "cell_type": "code",
   "execution_count": 13,
   "id": "fc0c5020",
   "metadata": {},
   "outputs": [],
   "source": [
    "import datetime\n",
    "\n",
    "# get the current date and time\n",
    "now = datetime.datetime.now()\n",
    "\n",
    "# open the file in append mode\n",
    "with open('today.txt', 'a') as f:\n",
    "  # convert the datetime object to a string and write it to the file\n",
    "  f.write(str(now))"
   ]
  },
  {
   "cell_type": "markdown",
   "id": "d28e55d5",
   "metadata": {},
   "source": [
    "### 2. Read the text file today.txt into the string today_string"
   ]
  },
  {
   "cell_type": "code",
   "execution_count": 14,
   "id": "750fd133",
   "metadata": {},
   "outputs": [],
   "source": [
    "with open('today.txt', 'r') as f:\n",
    "  today_string = f.read()"
   ]
  },
  {
   "cell_type": "markdown",
   "id": "a47acaae",
   "metadata": {},
   "source": [
    "### 3. Parse the date from today_string."
   ]
  },
  {
   "cell_type": "markdown",
   "id": "446bc95e",
   "metadata": {},
   "source": [
    "from datetime import datetime\n",
    "\n",
    "\n",
    "today_date = datetime.strptime(today_string, '%Y-%m-%d').date()\n",
    "print(today_date)"
   ]
  },
  {
   "cell_type": "markdown",
   "id": "afecbf9c",
   "metadata": {},
   "source": [
    "### 4. List the files in your current directory"
   ]
  },
  {
   "cell_type": "code",
   "execution_count": 15,
   "id": "7869e0c9",
   "metadata": {},
   "outputs": [
    {
     "name": "stdout",
     "output_type": "stream",
     "text": [
      "['.quokka', '.eclipse', '.config', 'Music', 'ManpowerPlanning-Web', '.fig', '.fig.dotfiles.bak', '.yarn', '.zprofile.pysave', '.condarc', '.docker', '.fleet', '.vim', 'OneDrive - Sysfore Technologies Pvt Ltd', '.DS_Store', '.webclipse', '.yarnrc', '.CFUserTextEncoding', '.angular-config.json', '.stCommitMsg', '.hgignore_global', '.wallaby', '.xonshrc', '.zprofile.bak', '.vscode-react-native', 'ChaitanyaAudit-API', 'Assignment_6.ipynb', '.bashrc', '.zshrc.pre-oh-my-zsh', '.zshrc.swo', '.zshrc', '.omnisharp', '.ServiceHub', 'today.txt', '.templateengine', '.postman', '.local', '.mongodb', 'Pictures', '.zprofile', 'Conveyance-Web', '.sts4', '.nuget', 'Assignment_7.ipynb', '.zsh_history', '.p2', '.ipython', 'Desktop', 'Library', '.npmrc', '.lesshst', 'HRMS_API', '.oracle_jre_usage', 'H2H.Web', '.emulator_console_auth_token', '.IdentityService', '.ctsystem', '.node_repl_history', '.android', '.pgadmin', '.cocoapods', 'HRMS_Web', '.gitignore_global', 'H2H.API', 'zshrc', 'Assignment_9.ipynb', '.bash_sessions', '.lemminx', 'books.csv', 'Public', '.hyper_plugins', 'package-lock.json', '.zshrc.pre-oh-my-zsh-2023-01-04_18-08-46', 'table', '.tcshrc', 'Conveyance-API', '.anaconda', '.ssh', 'Movies', '.dotnet', 'Applications', '.gradle', 'Assignment_21.ipynb', 'opt', '.Trash', '.codetogether', '.gitflow_export', 'test.txt', '.ipynb_checkpoints', '.zshrc.swp', '.jupyter', '.zcompdump', '.npm', 'Documents', '.azuredatastudio', 'ChaitanyaAudit-Web', '.mysql_history', '.mono', '.vscode', '.hyper.js', '.m2', '.bash_profile', '.gem', '.swiftpm', 'fonts', 'Assignment_8.ipynb', '.aspnet', '.ngrok', '.oh-my-zsh', '.rediscli_history', 'books.db', 'Downloads', '.python_history', '.redhat', '.continuum', '.cache', '.aws', '.zcompdump-Md’s MacBook Air-5.8.1', '.gitconfig', '.putty', '.bash_history', 'Assignment_20.ipynb', '.viminfo', '.zsh_sessions', '.conda', 'ManpowerPlanning-Api']\n"
     ]
    }
   ],
   "source": [
    "import os\n",
    "\n",
    "files = os.listdir()\n",
    "\n",
    "print(files)"
   ]
  },
  {
   "cell_type": "markdown",
   "id": "2642b662",
   "metadata": {},
   "source": [
    "### 5. Create a list of all of the files in your parent directory (minimum five files should be available)."
   ]
  },
  {
   "cell_type": "code",
   "execution_count": 16,
   "id": "fa145049",
   "metadata": {},
   "outputs": [
    {
     "name": "stdout",
     "output_type": "stream",
     "text": [
      "['.localized', 'Shared', 'mdmirajansari']\n"
     ]
    }
   ],
   "source": [
    "import os\n",
    "\n",
    "files = os.listdir(\"..\")\n",
    "\n",
    "print(files)"
   ]
  },
  {
   "cell_type": "markdown",
   "id": "a704ad82",
   "metadata": {},
   "source": [
    "### 6. Use multiprocessing to create three separate processes. Make each one wait a random number of seconds between one and five, print the current time, and then exit."
   ]
  },
  {
   "cell_type": "code",
   "execution_count": null,
   "id": "d904a914",
   "metadata": {},
   "outputs": [],
   "source": [
    "import multiprocessing\n",
    "import random\n",
    "import time\n",
    "\n",
    "def worker():\n",
    "    delay = random.uniform(1, 5)\n",
    "    time.sleep(delay)\n",
    "    print(f\"{time.ctime()}: Worker process done after {delay:.1f} seconds\")\n",
    "\n",
    "processes = []\n",
    "for i in range(3):\n",
    "    p = iprocessing.Process(target=worker)\n",
    "    p.start()\n",
    "    processes.append(p)\n",
    "\n",
    "for p in processes:\n",
    "    p.join()\n",
    "\n",
    "print(\"All worker processes done!\")\n"
   ]
  },
  {
   "cell_type": "markdown",
   "id": "069a89b2",
   "metadata": {},
   "source": [
    "### 7. Create a date object of your day of birth."
   ]
  },
  {
   "cell_type": "code",
   "execution_count": 3,
   "id": "2e7a67b9",
   "metadata": {},
   "outputs": [
    {
     "name": "stdout",
     "output_type": "stream",
     "text": [
      "1995-12-31\n"
     ]
    }
   ],
   "source": [
    "import datetime\n",
    "\n",
    "birthday = datetime.date(1995, 12, 31)\n",
    "\n",
    "print(birthday)\n"
   ]
  },
  {
   "cell_type": "markdown",
   "id": "713a7915",
   "metadata": {},
   "source": [
    "### 8. What day of the week was your day of birth?"
   ]
  },
  {
   "cell_type": "code",
   "execution_count": 4,
   "id": "4b0a9729",
   "metadata": {},
   "outputs": [
    {
     "name": "stdout",
     "output_type": "stream",
     "text": [
      "1995-12-31 was a Sunday\n"
     ]
    }
   ],
   "source": [
    "import datetime\n",
    "\n",
    "birthday = datetime.date(1995, 12, 31)\n",
    "weekday = birthday.strftime(\"%A\")\n",
    "\n",
    "print(f\"{birthday} was a {weekday}\")\n"
   ]
  },
  {
   "cell_type": "markdown",
   "id": "e8c1cdd8",
   "metadata": {},
   "source": [
    "### 9. When will you be (or when were you) 10,000 days old?"
   ]
  },
  {
   "cell_type": "code",
   "execution_count": 5,
   "id": "0ab45550",
   "metadata": {},
   "outputs": [
    {
     "name": "stdout",
     "output_type": "stream",
     "text": [
      "10,000 days after 1995-12-31 is 2023-05-18\n"
     ]
    }
   ],
   "source": [
    "import datetime\n",
    "\n",
    "start_date = datetime.date(1995, 12, 31)\n",
    "days_offset = datetime.timedelta(days=10000)\n",
    "end_date = start_date + days_offset\n",
    "\n",
    "print(f\"10,000 days after {start_date} is {end_date}\")\n"
   ]
  },
  {
   "cell_type": "code",
   "execution_count": null,
   "id": "4c6f7f17",
   "metadata": {},
   "outputs": [],
   "source": []
  }
 ],
 "metadata": {
  "kernelspec": {
   "display_name": "Python 3 (ipykernel)",
   "language": "python",
   "name": "python3"
  },
  "language_info": {
   "codemirror_mode": {
    "name": "ipython",
    "version": 3
   },
   "file_extension": ".py",
   "mimetype": "text/x-python",
   "name": "python",
   "nbconvert_exporter": "python",
   "pygments_lexer": "ipython3",
   "version": "3.10.7"
  }
 },
 "nbformat": 4,
 "nbformat_minor": 5
}
